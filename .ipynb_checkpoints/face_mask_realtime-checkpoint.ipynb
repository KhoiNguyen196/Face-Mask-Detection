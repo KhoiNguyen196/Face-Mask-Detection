{
 "cells": [
  {
   "cell_type": "code",
   "execution_count": 1,
   "id": "7e939f81",
   "metadata": {},
   "outputs": [
    {
     "name": "stderr",
     "output_type": "stream",
     "text": [
      "2022-04-11 14:36:27.321222: I tensorflow/core/platform/cpu_feature_guard.cc:151] This TensorFlow binary is optimized with oneAPI Deep Neural Network Library (oneDNN) to use the following CPU instructions in performance-critical operations:  AVX2 FMA\n",
      "To enable them in other operations, rebuild TensorFlow with the appropriate compiler flags.\n",
      "2022-04-11 14:36:56.874 Python[773:22801] _TIPropertyValueIsValid called with 4 on nil context!\n",
      "2022-04-11 14:36:56.874 Python[773:22801] imkxpc_getApplicationProperty:reply: called with incorrect property value 4, bailing.\n",
      "2022-04-11 14:36:56.874 Python[773:22801] Text input context does not respond to _valueForTIProperty:\n",
      "2022-04-11 14:37:10.469 Python[773:22801] _TIPropertyValueIsValid called with 4 on nil context!\n",
      "2022-04-11 14:37:10.469 Python[773:22801] imkxpc_getApplicationProperty:reply: called with incorrect property value 4, bailing.\n",
      "2022-04-11 14:37:10.469 Python[773:22801] Text input context does not respond to _valueForTIProperty:\n"
     ]
    },
    {
     "ename": "KeyboardInterrupt",
     "evalue": "",
     "output_type": "error",
     "traceback": [
      "\u001b[0;31m---------------------------------------------------------------------------\u001b[0m",
      "\u001b[0;31mKeyboardInterrupt\u001b[0m                         Traceback (most recent call last)",
      "Input \u001b[0;32mIn [1]\u001b[0m, in \u001b[0;36m<cell line: 11>\u001b[0;34m()\u001b[0m\n\u001b[1;32m     13\u001b[0m \u001b[38;5;28;01mfor\u001b[39;00m (x, y, w, h) \u001b[38;5;129;01min\u001b[39;00m face:\n\u001b[1;32m     14\u001b[0m     face_img \u001b[38;5;241m=\u001b[39m img[y:y \u001b[38;5;241m+\u001b[39m h, x:x \u001b[38;5;241m+\u001b[39m w]\n\u001b[0;32m---> 15\u001b[0m     \u001b[43mcv2\u001b[49m\u001b[38;5;241;43m.\u001b[39;49m\u001b[43mimwrite\u001b[49m\u001b[43m(\u001b[49m\u001b[38;5;124;43m'\u001b[39;49m\u001b[38;5;124;43mtemp.jpg\u001b[39;49m\u001b[38;5;124;43m'\u001b[39;49m\u001b[43m,\u001b[49m\u001b[43m \u001b[49m\u001b[43mface_img\u001b[49m\u001b[43m)\u001b[49m\n\u001b[1;32m     16\u001b[0m     test_image \u001b[38;5;241m=\u001b[39m image\u001b[38;5;241m.\u001b[39mload_img(\u001b[38;5;124m'\u001b[39m\u001b[38;5;124mtemp.jpg\u001b[39m\u001b[38;5;124m'\u001b[39m, target_size\u001b[38;5;241m=\u001b[39m(\u001b[38;5;241m150\u001b[39m, \u001b[38;5;241m150\u001b[39m, \u001b[38;5;241m3\u001b[39m))\n\u001b[1;32m     17\u001b[0m     test_image \u001b[38;5;241m=\u001b[39m image\u001b[38;5;241m.\u001b[39mimg_to_array(test_image)\n",
      "\u001b[0;31mKeyboardInterrupt\u001b[0m: "
     ]
    }
   ],
   "source": [
    "from keras.models import Sequential,load_model\n",
    "from keras.preprocessing import image\n",
    "import cv2\n",
    "import numpy as np\n",
    "import datetime\n",
    "cap = cv2.VideoCapture(0)\n",
    "face_cascade = cv2.CascadeClassifier('haarcascade_frontalface_default.xml')\n",
    "model = load_model(\"model_face_mask.h5\")\n",
    "\n",
    "while True:\n",
    "    _, img = cap.read()\n",
    "    face = face_cascade.detectMultiScale(img, scaleFactor=1.1, minNeighbors=4)\n",
    "    for (x, y, w, h) in face:\n",
    "        face_img = img[y:y + h, x:x + w]\n",
    "        cv2.imwrite('temp.jpg', face_img)\n",
    "        test_image = image.load_img('temp.jpg', target_size=(150, 150, 3))\n",
    "        test_image = image.img_to_array(test_image)\n",
    "        test_image = np.expand_dims(test_image, axis=0)\n",
    "        #pred = model.predict_classes(test_image)[0][0]\n",
    "        pred = (model.predict(test_image)).astype(\"int32\")\n",
    "        if pred == 1:\n",
    "            cv2.rectangle(img, (x, y), (x + w, y + h), (0, 0, 255), 3)\n",
    "            cv2.putText(img, 'KHONG KHAU TRANG', ((x + w) // 2, y + h + 20), cv2.FONT_HERSHEY_SIMPLEX, 1, (0, 0, 255), 3)\n",
    "        else:\n",
    "            cv2.rectangle(img, (x, y), (x + w, y + h), (0, 255, 0), 3)\n",
    "            cv2.putText(img, 'CO KHAU TRANG', ((x + w) // 2, y + h + 20), cv2.FONT_HERSHEY_SIMPLEX, 1, (0, 255, 0), 3)\n",
    "        datet = str(datetime.datetime.now())\n",
    "        #cv2.putText(img, datet, (400, 450), cv2.FONT_HERSHEY_SIMPLEX, 0.5, (255, 255, 255), 1)\n",
    "\n",
    "    cv2.imshow('img', img)\n",
    "\n",
    "    if cv2.waitKey(1) == ord('q'):\n",
    "        break\n",
    "\n",
    "cap.release()\n",
    "cv2.destroyAllWindows()"
   ]
  },
  {
   "cell_type": "code",
   "execution_count": null,
   "id": "ff822f29",
   "metadata": {},
   "outputs": [],
   "source": []
  }
 ],
 "metadata": {
  "kernelspec": {
   "display_name": "Python 3 (ipykernel)",
   "language": "python",
   "name": "python3"
  },
  "language_info": {
   "codemirror_mode": {
    "name": "ipython",
    "version": 3
   },
   "file_extension": ".py",
   "mimetype": "text/x-python",
   "name": "python",
   "nbconvert_exporter": "python",
   "pygments_lexer": "ipython3",
   "version": "3.9.8"
  }
 },
 "nbformat": 4,
 "nbformat_minor": 5
}
